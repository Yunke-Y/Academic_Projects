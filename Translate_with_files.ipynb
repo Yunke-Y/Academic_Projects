{
 "cells": [
  {
   "cell_type": "markdown",
   "id": "39c05d59",
   "metadata": {},
   "source": [
    "### Translate with files and dictionary\n",
    "Read in the files in three languages files, and create one dictionary \n",
    "with the English terms as the key and \n",
    "the French, German and Spanish terms as the corresponding values.\n",
    "\n",
    "Based on the dictionary created\n",
    "\n",
    "1. Allow the user to enter an English word/phrase \n",
    "and output the corresponding 3 translations. \n",
    "If the user enters a phrase that has no corresponding translation, \n",
    "output a \"Translations not found\" message.\n",
    "\n",
    "\n",
    "2. Allow the user to enter a new English word/phrase and the translations for it. \n",
    "Write the new word/phrase and translations to their respective files. \n",
    "The user should be able to search for and see the translations of any new words entered.\n"
   ]
  },
  {
   "cell_type": "code",
   "execution_count": 1,
   "id": "b012e546",
   "metadata": {},
   "outputs": [],
   "source": [
    "Translator = {}\n",
    "\n",
    "file1 = open(\"french.txt\", 'r')\n",
    "file2 = open(\"german.txt\", 'r')\n",
    "file3 = open(\"spanish.txt\", 'r')\n",
    "\n",
    "\n",
    "All1 = file1.read().split('\\n')\n",
    "All2 = file2.read().split('\\n')\n",
    "All3 = file3.read().split('\\n')\n",
    "\n",
    "\n",
    "file1.close()\n",
    "file2.close()\n",
    "file3.close()\n",
    "\n",
    "for i in range(0, len(All1)-1):\n",
    "    if i % 2 == 0:\n",
    "        English = All1[i]\n",
    "        Translator[English] = []\n",
    "    else:\n",
    "        French = All1[i]\n",
    "        German = All2[i]\n",
    "        Spanish = All3[i]\n",
    "\n",
    "        Translator[English].append(French)\n",
    "        Translator[English].append(German)\n",
    "        Translator[English].append(Spanish)"
   ]
  },
  {
   "cell_type": "code",
   "execution_count": 2,
   "id": "342d3fa7",
   "metadata": {},
   "outputs": [],
   "source": [
    "def Search():\n",
    "    English = input('Please enter English word/phrase: \\n')\n",
    "    if English in Translator:\n",
    "        print(\"French:\", Translator[English][0],\"\\n\"\n",
    "             \"German:\", Translator[English][1],\"\\n\"\n",
    "             \"Spanish:\",Translator[English][2],\"\\n\")\n",
    "    else:\n",
    "        print(\"Translations not found\",\"\\n\")"
   ]
  },
  {
   "cell_type": "code",
   "execution_count": 3,
   "id": "47e3c05c",
   "metadata": {},
   "outputs": [],
   "source": [
    "def Add():\n",
    "    file1 = open(\"french.txt\", 'a')\n",
    "    file2 = open(\"german.txt\", 'a')\n",
    "    file3 = open(\"spanish.txt\", 'a')\n",
    "    \n",
    "    English = input('Please add new English word/phrase: ')\n",
    "    French = input('Please add its French translation: ')\n",
    "    German = input('Please add its German translation: ')\n",
    "    Spanish = input('Please add its Spanish translation: ')\n",
    "    \n",
    "    file1.write(English+'\\n'+French+\"\\n\")\n",
    "    file2.write(English+'\\n'+German+\"\\n\")\n",
    "    file3.write(English+'\\n'+Spanish+\"\\n\")\n",
    "    \n",
    "    file1.close()\n",
    "    file2.close()\n",
    "    file3.close()\n",
    "    \n",
    "    \n",
    "    Translator[English] = []\n",
    "    Translator[English].append(French)\n",
    "    Translator[English].append(German)\n",
    "    Translator[English].append(Spanish)\n",
    "    \n",
    "    return Translator"
   ]
  },
  {
   "cell_type": "code",
   "execution_count": 4,
   "id": "fc2b27f4",
   "metadata": {},
   "outputs": [
    {
     "name": "stdout",
     "output_type": "stream",
     "text": [
      "Do you want to use Translator? yes / no yes\n",
      "You want to: search / add: search\n",
      "\n",
      "\n",
      "Please enter English word/phrase: \n",
      "good morning\n",
      "French: bonjour \n",
      "German: guten morgen \n",
      "Spanish: buenos dÃ­as \n",
      "\n",
      "\n",
      "Do you want to use Translator?  yes / no yes\n",
      "\n",
      "\n",
      "You want to: search / add: search\n",
      "\n",
      "\n",
      "Please enter English word/phrase: \n",
      "girl\n",
      "Translations not found \n",
      "\n",
      "\n",
      "Do you want to use Translator?  yes / no yes\n",
      "\n",
      "\n",
      "You want to: search / add: add\n",
      "\n",
      "\n",
      "Please add new English word/phrase: dead\n",
      "Please add its French translation: morte\n",
      "Please add its German translation: tot\n",
      "Please add its Spanish translation: muerto\n",
      "\n",
      "Do you want to use Translator?  yes / no no\n",
      "\n",
      "\n"
     ]
    }
   ],
   "source": [
    "Next = input('Do you want to use Translator? yes / no ')\n",
    "\n",
    "while Next == 'yes':\n",
    "    Action = input(\"You want to: search / add: \")\n",
    "    if Action == 'search':\n",
    "        Search()\n",
    "    elif Action == 'add':\n",
    "        Add()\n",
    "    Next = input('\\nDo you want to use Translator?  yes / no ')\n"
   ]
  },
  {
   "cell_type": "code",
   "execution_count": null,
   "id": "787698ef",
   "metadata": {},
   "outputs": [],
   "source": []
  }
 ],
 "metadata": {
  "kernelspec": {
   "display_name": "Python 3",
   "language": "python",
   "name": "python3"
  },
  "language_info": {
   "codemirror_mode": {
    "name": "ipython",
    "version": 3
   },
   "file_extension": ".py",
   "mimetype": "text/x-python",
   "name": "python",
   "nbconvert_exporter": "python",
   "pygments_lexer": "ipython3",
   "version": "3.8.8"
  }
 },
 "nbformat": 4,
 "nbformat_minor": 5
}
