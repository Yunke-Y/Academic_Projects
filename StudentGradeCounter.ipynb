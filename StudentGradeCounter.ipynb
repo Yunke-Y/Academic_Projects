{
  "nbformat": 4,
  "nbformat_minor": 5,
  "metadata": {
    "kernelspec": {
      "display_name": "Python 3",
      "language": "python",
      "name": "python3"
    },
    "language_info": {
      "codemirror_mode": {
        "name": "ipython",
        "version": 3
      },
      "file_extension": ".py",
      "mimetype": "text/x-python",
      "name": "python",
      "nbconvert_exporter": "python",
      "pygments_lexer": "ipython3",
      "version": "3.8.8"
    },
    "colab": {
      "name": "Assignment_5_Yu_Y.ipynb",
      "provenance": [],
      "collapsed_sections": []
    }
  },
  "cells": [
    {
      "cell_type": "code",
      "metadata": {
        "colab": {
          "base_uri": "https://localhost:8080/"
        },
        "id": "b03fe6a4",
        "outputId": "1d955aad-f429-4312-d0f1-d3e073eea1e9"
      },
      "source": [
        "stop = 'NO'\n",
        "\n",
        "while stop != 'YES':\n",
        "    User_Action = input(\"What would you like to do? Enter / Search \\n\")\n",
        "    if User_Action == 'Enter':\n",
        "        file1 = open(\"StudentGradeInfo.txt\", 'a')  # open a file and use append mode\n",
        "        Student_Name = input(\"Please enter the student name: \\n\")\n",
        "        Assignment_Avg_Grade = input(\"Please enter the student assignments average grade:\\n\")\n",
        "        Midterm_Exam_Grade = input(\"Please enter the student midterm exam grade:\\n\")\n",
        "        Final_Project_Grade = input(\"Please enter the student final project grade:\\n\")\n",
        "        Final_Exam_Grade = input(\"Please enter the student final exam grade:\\n\")\n",
        "        \n",
        "        file1.write(Student_Name+'\\n')  \n",
        "        file1.write(Assignment_Avg_Grade+'\\n')\n",
        "        file1.write(Midterm_Exam_Grade+'\\n')\n",
        "        file1.write(Final_Project_Grade+'\\n')\n",
        "        file1.write(Final_Exam_Grade+'\\n')\n",
        "        file1.close()\n",
        "        \n",
        "        stop = input(\"Do you want to stop using this program? YES / NO \\n\")\n",
        "        \n",
        "    elif User_Action == 'Search':\n",
        "        student_name = str(1)\n",
        "        student = input(\"Who do you want to search? Please enter the student name: \\n\")\n",
        "        file1 = open(\"StudentGradeInfo.txt\", 'r')\n",
        "        all = file1.read()\n",
        "        file1.close()\n",
        "        if student in all:\n",
        "            file1 = open(\"StudentGradeInfo.txt\", 'r')\n",
        "            while student_name != '':\n",
        "                student_name = file1.readline().rstrip()\n",
        "                assignment_Avg_Grade = file1.readline().rstrip()\n",
        "                midterm_Exam_Grade = file1.readline().rstrip()\n",
        "                final_Project_Grade = file1.readline().rstrip()\n",
        "                final_Exam_Grade = file1.readline().rstrip()\n",
        "                if student_name == student:\n",
        "                    print(student_name)\n",
        "                    print(float(assignment_Avg_Grade)*.15)\n",
        "                    print(float(midterm_Exam_Grade)*.25)\n",
        "                    print(float(final_Project_Grade)*.25)\n",
        "                    print(float(final_Exam_Grade)*.15)\n",
        "                    print(\"Totoal Grade: \",(float(assignment_Avg_Grade)+float(final_Exam_Grade))*.15+(float(midterm_Exam_Grade)+float(final_Project_Grade))*.25)\n",
        "            file1.close()       \n",
        "            stop = input(\"Do you want to stop using this program? YES / NO \\n\")\n",
        "        \n",
        "        else:\n",
        "            print(\"This student is not in the file\")\n",
        "            stop = input(\"Do you want to stop using this program? YES / NO \\n\")\n",
        "            \n",
        "    else:\n",
        "        print(\"The program does not regonize it, please re-enter \\n\")\n",
        "        stop = input(\"Do you want to stop using this program? YES / NO \\n\")"
      ],
      "id": "b03fe6a4",
      "execution_count": 2,
      "outputs": [
        {
          "name": "stdout",
          "output_type": "stream",
          "text": [
            "What would you like to do? Enter / Search \n",
            "Enter\n",
            "Please enter the student name: \n",
            "Yunke\n",
            "Please enter the student assignments average grade:\n",
            "100\n",
            "Please enter the student midterm exam grade:\n",
            "100\n",
            "Please enter the student final project grade:\n",
            "100\n",
            "Please enter the student final exam grade:\n",
            "100\n",
            "Do you want to stop using this program? YES / NO \n",
            "NO\n",
            "What would you like to do? Enter / Search \n",
            "Enter\n",
            "Please enter the student name: \n",
            "James\n",
            "Please enter the student assignments average grade:\n",
            "90\n",
            "Please enter the student midterm exam grade:\n",
            "95\n",
            "Please enter the student final project grade:\n",
            "97\n",
            "Please enter the student final exam grade:\n",
            "96\n",
            "Do you want to stop using this program? YES / NO \n",
            "NO\n",
            "What would you like to do? Enter / Search \n",
            "Search\n",
            "Who do you want to search? Please enter the student name: \n",
            "James\n",
            "James\n",
            "13.5\n",
            "23.75\n",
            "24.25\n",
            "14.399999999999999\n",
            "Totoal Grade:  75.9\n",
            "Do you want to stop using this program? YES / NO \n",
            "YES\n"
          ]
        }
      ]
    }
  ]
}