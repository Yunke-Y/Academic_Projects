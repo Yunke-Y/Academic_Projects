{
 "cells": [
  {
   "cell_type": "markdown",
   "metadata": {
    "id": "GFJdt8qhF1gG"
   },
   "source": [
    "## The function for Payment Method"
   ]
  },
  {
   "cell_type": "code",
   "execution_count": null,
   "metadata": {
    "id": "IhP8W-dslRfE"
   },
   "outputs": [],
   "source": [
    "# create a function for Payment selection\n",
    "def paymentMethod(Total):\n",
    "  Payment = input(\"Do you want to pay by cash or credit card?\")\n",
    "\n",
    "  if Payment == \"credit card\":\n",
    "    print(\"Your bill is: ${}. Thank you for your purchase!\".format(Total))\n",
    "  elif Payment == \"cash\":\n",
    "    print(\"Your bill is: ${}.\".format(Total))\n",
    "    Cash = round(float(input(\"Please put in your cash and enter your cash amount:\")), 2)\n",
    "    if Cash == Total:\n",
    "      print(\"Thank you for your purchase!\")\n",
    "    elif Cash > Total:\n",
    "      change = round((Cash - Total),2)\n",
    "      print(\"Here is your change:${}. Thank you for your purchase!\".format(change))\n",
    "    elif Cash < Total:\n",
    "      print(\"You have not paid the full amount. Your items will be returned to the shelves. Thank you!\")\n",
    "  else:\n",
    "    print(\"System error, please wait for assistance!\")\n",
    "  "
   ]
  },
  {
   "cell_type": "markdown",
   "metadata": {
    "id": "k4xMVg1FlXT0"
   },
   "source": [
    "# Select Express or Regular Checkout"
   ]
  },
  {
   "cell_type": "code",
   "execution_count": null,
   "metadata": {
    "colab": {
     "base_uri": "https://localhost:8080/"
    },
    "id": "CC5-Dd9LlV4x",
    "outputId": "77b0c575-a2f2-4481-fad2-ba3f832d0f06"
   },
   "outputs": [
    {
     "name": "stdout",
     "output_type": "stream",
     "text": [
      "Do you want to express (5 or less items) or regular checkout? (Express / Regular)Regular\n"
     ]
    }
   ],
   "source": [
    "Checkout = input(\"Do you want to express (5 or less items) or regular checkout? (Express / Regular)\")"
   ]
  },
  {
   "cell_type": "markdown",
   "metadata": {
    "id": "LJpGrrFBN03p"
   },
   "source": [
    "#### Express checkout"
   ]
  },
  {
   "cell_type": "code",
   "execution_count": null,
   "metadata": {
    "colab": {
     "base_uri": "https://localhost:8080/"
    },
    "id": "F8SjyG4alWns",
    "outputId": "03e93c7b-ded4-4079-a53d-a643facd67d7"
   },
   "outputs": [
    {
     "name": "stdout",
     "output_type": "stream",
     "text": [
      "Please enter the number of items you have:5\n",
      "Juice\n",
      "2.99\n",
      "2\n",
      "Juice - $2.99: 2\n",
      "Milk\n",
      "1.99\n",
      "4\n",
      "Milk - $1.99: 4\n",
      "Ice Cream\n",
      "2.99\n",
      "6\n",
      "Ice Cream - $2.99: 6\n",
      "Eggs\n",
      "5.99\n",
      "1\n",
      "Eggs - $5.99: 1\n",
      "Paper Towel\n",
      "1.99\n",
      "2\n",
      "Paper Towel - $1.99: 2\n",
      "Total - $41.85\n",
      "Do you want to pay by cash or credit card?cash\n",
      "Your bill is: $41.85.\n",
      "Please put in your cash and enter your cash amount:50\n",
      "Here is your change:$8.15. Thank you for your purchase!\n"
     ]
    }
   ],
   "source": [
    "# if customer choose express service checkout\n",
    "if Checkout == \"Express\":\n",
    "  x = int(input(\"Please enter the number of items you have:\"))\n",
    "  total = 0\n",
    "  for x in range (0,x):\n",
    "      item = input()\n",
    "      price = float(input())\n",
    "      quantity = int(input())\n",
    "      total += price*quantity\n",
    "      print(\"{} - ${}: {}\".format(item,price,quantity))\n",
    "  print(\"Total - ${}\".format(total))\n",
    "\n",
    "  # Checkout and select payment method\n",
    "  paymentMethod(total)\n",
    "                                                                                                                                                                                                                                                                                                                                                            "
   ]
  },
  {
   "cell_type": "markdown",
   "metadata": {
    "id": "0h59PCBMN81h"
   },
   "source": [
    "#### Regular checkout"
   ]
  },
  {
   "cell_type": "code",
   "execution_count": null,
   "metadata": {
    "colab": {
     "base_uri": "https://localhost:8080/"
    },
    "id": "ajRCk_0mHSe_",
    "outputId": "f11b7007-5b6a-43b6-8309-c9d1db5091d3"
   },
   "outputs": [
    {
     "name": "stdout",
     "output_type": "stream",
     "text": [
      "Juice\n",
      "2.99\n",
      "2\n",
      "Juice - $2.99: 2\n",
      "Do you want to scan next item? (Yes / No)Yes\n",
      "Milk\n",
      "1.99\n",
      "4\n",
      "Milk - $1.99: 4\n",
      "Do you want to scan next item? (Yes / No)Yes\n",
      "Paper Towel\n",
      "1.99\n",
      "2\n",
      "Paper Towel - $1.99: 2\n",
      "Do you want to scan next item? (Yes / No)No\n",
      "Total - $17.92\n",
      "Do you want to pay by cash or credit card?credit card\n",
      "Your bill is: $17.92. Thank you for your purchase!\n"
     ]
    }
   ],
   "source": [
    "# if customer choose regular service checkout\n",
    "if Checkout == \"Regular\":\n",
    "  scan_item = \"Yes\"\n",
    "  total = 0\n",
    "  while scan_item == \"Yes\":\n",
    "    item = input()\n",
    "    price = float(input())\n",
    "    quantity = int(input())\n",
    "    total += price*quantity\n",
    "    print(\"{} - ${}: {}\".format(item,price,quantity))\n",
    "    scan_item = input(\"Do you want to scan next item? (Yes / No)\")\n",
    "  print(\"Total - ${}\".format(total))\n",
    "\n",
    "  # Checkout and select payment method\n",
    "  paymentMethod(total)"
   ]
  }
 ],
 "metadata": {
  "colab": {
   "collapsed_sections": [],
   "name": "Assignment#3_Yu_Y.ipynb",
   "provenance": []
  },
  "kernelspec": {
   "display_name": "Python 3",
   "language": "python",
   "name": "python3"
  },
  "language_info": {
   "codemirror_mode": {
    "name": "ipython",
    "version": 3
   },
   "file_extension": ".py",
   "mimetype": "text/x-python",
   "name": "python",
   "nbconvert_exporter": "python",
   "pygments_lexer": "ipython3",
   "version": "3.8.8"
  }
 },
 "nbformat": 4,
 "nbformat_minor": 1
}
