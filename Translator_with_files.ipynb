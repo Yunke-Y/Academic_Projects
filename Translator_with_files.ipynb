{
 "cells": [
  {
   "cell_type": "code",
   "execution_count": 3,
   "id": "b012e546",
   "metadata": {},
   "outputs": [
    {
     "data": {
      "text/plain": [
       "{'good morning': ['bonjour', 'guten morgen', 'buenos dÃ\\xadas'],\n",
       " 'good evening': ['bonsoir', 'guten abend', 'buenas noches'],\n",
       " 'please': [\"s'il vous plaÃ®t\", 'bitte', 'por favor'],\n",
       " 'thank you': ['merci', 'danke', 'gracias'],\n",
       " \"you're welcome\": ['de rien', 'bitte', 'de nada'],\n",
       " 'excuse me': ['pardon', 'entschuldigung', 'perdÃ³neme'],\n",
       " 'yes': ['oui', 'ja', 'sÃ\\xad'],\n",
       " 'no': ['non', 'nein', 'no'],\n",
       " 'hello': ['bonjour', 'hallo', 'hola'],\n",
       " 'goodbye': ['au revoir', 'auf wiedersehen', 'adiÃ³s']}"
      ]
     },
     "execution_count": 3,
     "metadata": {},
     "output_type": "execute_result"
    }
   ],
   "source": [
    "Translator = {}\n",
    "\n",
    "file1 = open(\"french.txt\", 'r')\n",
    "file2 = open(\"german.txt\", 'r')\n",
    "file3 = open(\"spanish.txt\", 'r')\n",
    "\n",
    "\n",
    "All1 = file1.read().split('\\n')\n",
    "All2 = file2.read().split('\\n')\n",
    "All3 = file3.read().split('\\n')\n",
    "\n",
    "\n",
    "file1.close()\n",
    "file2.close()\n",
    "file3.close()\n",
    "\n",
    "for i in range(0, len(All1)-1):\n",
    "    if i % 2 == 0:\n",
    "        English = All1[i]\n",
    "        Translator[English] = []\n",
    "    else:\n",
    "        French = All1[i]\n",
    "        German = All2[i]\n",
    "        Spanish = All3[i]\n",
    "\n",
    "        Translator[English].append(French)\n",
    "        Translator[English].append(German)\n",
    "        Translator[English].append(Spanish)\n",
    "    \n",
    "Translator"
   ]
  },
  {
   "cell_type": "code",
   "execution_count": 4,
   "id": "342d3fa7",
   "metadata": {},
   "outputs": [],
   "source": [
    "def Search():\n",
    "    English = input('Please enter English word/phrase: \\n')\n",
    "    if English in Translator:\n",
    "        print(Translator[English])\n",
    "    else:\n",
    "        print(\"Translations not found\")"
   ]
  },
  {
   "cell_type": "code",
   "execution_count": 5,
   "id": "47e3c05c",
   "metadata": {},
   "outputs": [],
   "source": [
    "def Add():\n",
    "    file1 = open(\"french.txt\", 'a')\n",
    "    file2 = open(\"german.txt\", 'a')\n",
    "    file3 = open(\"spanish.txt\", 'a')\n",
    "    \n",
    "    English = input('Please add new English word/phrase: ')\n",
    "    French = input('Please add its French translation: ')\n",
    "    German = input('Please add its German translation: ')\n",
    "    Spanish = input('Please add its Spanish translation: ')\n",
    "    \n",
    "    file1.write(English+'\\n'+French)\n",
    "    file2.write(English+'\\n'+German)\n",
    "    file3.write(English+'\\n'+Spanish)\n",
    "    \n",
    "    file1.close()\n",
    "    file2.close()\n",
    "    file3.close()\n",
    "    \n",
    "    \n",
    "    Translator[English] = []\n",
    "    Translator[English].append(French)\n",
    "    Translator[English].append(German)\n",
    "    Translator[English].append(Spanish)\n",
    "    \n",
    "    return Translator"
   ]
  },
  {
   "cell_type": "code",
   "execution_count": 6,
   "id": "fc2b27f4",
   "metadata": {},
   "outputs": [
    {
     "name": "stdout",
     "output_type": "stream",
     "text": [
      "Do you want to use Translator? yes / noyes\n",
      "You want to: search / add: search\n",
      "Please enter English word/phrase: \n",
      "push\n",
      "Translations not found\n",
      "Do you want to use Translator?  yes / no yes\n",
      "You want to: search / add: add\n",
      "Please add new English word/phrase: push\n",
      "Please add its French translation: pousser\n",
      "Please add its German translation: drucken\n",
      "Please add its Spanish translation: empujar\n",
      "Do you want to use Translator?  yes / no yes\n",
      "You want to: search / add: add\n",
      "Please add new English word/phrase: pull\n",
      "Please add its French translation: tirer\n",
      "Please add its German translation: ziehen\n",
      "Please add its Spanish translation: jalar\n",
      "Do you want to use Translator?  yes / no yes\n",
      "You want to: search / add: add\n",
      "Please add new English word/phrase: Today is a sunny day\n",
      "Please add its French translation: Aujourd'hui est une journée ensoleillée\n",
      "Please add its German translation: Heute ist ein sonniger Tag\n",
      "Please add its Spanish translation: Hoy es un día soleado\n",
      "Do you want to use Translator?  yes / no yes\n",
      "You want to: search / add: search\n",
      "Please enter English word/phrase: \n",
      "pull\n",
      "['tirer', 'ziehen', 'jalar']\n",
      "Do you want to use Translator?  yes / no no\n"
     ]
    }
   ],
   "source": [
    "Next = input('Do you want to use Translator? yes / no')\n",
    "\n",
    "while Next == 'yes':\n",
    "    Action = input('You want to: search / add: ')\n",
    "    if Action == 'search':\n",
    "        Search()\n",
    "    elif Action == 'add':\n",
    "        Add()\n",
    "    Next = input('Do you want to use Translator?  yes / no ')"
   ]
  },
  {
   "cell_type": "code",
   "execution_count": null,
   "id": "787698ef",
   "metadata": {},
   "outputs": [],
   "source": []
  }
 ],
 "metadata": {
  "kernelspec": {
   "display_name": "Python 3",
   "language": "python",
   "name": "python3"
  },
  "language_info": {
   "codemirror_mode": {
    "name": "ipython",
    "version": 3
   },
   "file_extension": ".py",
   "mimetype": "text/x-python",
   "name": "python",
   "nbconvert_exporter": "python",
   "pygments_lexer": "ipython3",
   "version": "3.8.8"
  }
 },
 "nbformat": 4,
 "nbformat_minor": 5
}
